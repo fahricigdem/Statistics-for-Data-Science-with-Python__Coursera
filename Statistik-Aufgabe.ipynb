{
 "cells": [
  {
   "cell_type": "markdown",
   "metadata": {},
   "source": [
    "# Statistik-Aufgabe"
   ]
  },
  {
   "cell_type": "markdown",
   "metadata": {},
   "source": [
    "## Ein Datensatz zur Auswertung – Praktikant eines Unternehmens"
   ]
  },
  {
   "cell_type": "code",
   "execution_count": null,
   "metadata": {},
   "outputs": [],
   "source": []
  },
  {
   "cell_type": "code",
   "execution_count": 1,
   "metadata": {},
   "outputs": [],
   "source": [
    "import pandas as pd"
   ]
  },
  {
   "cell_type": "code",
   "execution_count": 66,
   "metadata": {},
   "outputs": [],
   "source": [
    "data=\"1 1 1 13 0 1.6 1.9 2.5 0.8 1 1.7 0 2 1 3 11 0 7.7 4.7 8.3 7.3 3 9.0 1 3 1 1 1 1 7.7 5.3 8.3 6.6 3 9.9 1 4 1 2 22 0 9.8 4.2 9.2 8.9 3 9.8 1 5 1 3 12 0 7.6 6.3 6.7 6.1 3 9.9 1 6 1 1 22 1 8.2 6.1 8.5 6.9 2 7.7 1 7 1 3 20 0 7.2 5.2 5.7 6.0 2 7.0 1 8 1 3 13 0 8.2 2.4 10.0 8.4 1 9.1 1 9 1 1 34 1 9.8 5.9 7.8 6.5 3 9.9 1 10 1 3 5 0 9.9 4.7 8.3 7.5 3 8.2 1 11 0 3 27 0 9.8 4.1 9.9 8.7 3 9.3 0 12 0 3 4 0 8.9 5.1 9.8 8.5 3 10.0 1\" "
   ]
  },
  {
   "cell_type": "code",
   "execution_count": 67,
   "metadata": {},
   "outputs": [],
   "source": [
    "data = data.split(\" \")"
   ]
  },
  {
   "cell_type": "code",
   "execution_count": 68,
   "metadata": {},
   "outputs": [
    {
     "name": "stdout",
     "output_type": "stream",
     "text": [
      "144 ['1', '1', '1', '13', '0', '1.6', '1.9', '2.5', '0.8', '1', '1.7', '0', '2', '1', '3', '11', '0', '7.7', '4.7', '8.3', '7.3', '3', '9.0', '1', '3', '1', '1', '1', '1', '7.7', '5.3', '8.3', '6.6', '3', '9.9', '1', '4', '1', '2', '22', '0', '9.8', '4.2', '9.2', '8.9', '3', '9.8', '1', '5', '1', '3', '12', '0', '7.6', '6.3', '6.7', '6.1', '3', '9.9', '1', '6', '1', '1', '22', '1', '8.2', '6.1', '8.5', '6.9', '2', '7.7', '1', '7', '1', '3', '20', '0', '7.2', '5.2', '5.7', '6.0', '2', '7.0', '1', '8', '1', '3', '13', '0', '8.2', '2.4', '10.0', '8.4', '1', '9.1', '1', '9', '1', '1', '34', '1', '9.8', '5.9', '7.8', '6.5', '3', '9.9', '1', '10', '1', '3', '5', '0', '9.9', '4.7', '8.3', '7.5', '3', '8.2', '1', '11', '0', '3', '27', '0', '9.8', '4.1', '9.9', '8.7', '3', '9.3', '0', '12', '0', '3', '4', '0', '8.9', '5.1', '9.8', '8.5', '3', '10.0', '1']\n"
     ]
    }
   ],
   "source": [
    "print(len(data), data)"
   ]
  },
  {
   "cell_type": "code",
   "execution_count": 69,
   "metadata": {},
   "outputs": [],
   "source": [
    "data = [float(i) for i in data ]"
   ]
  },
  {
   "cell_type": "code",
   "execution_count": 70,
   "metadata": {},
   "outputs": [
    {
     "name": "stdout",
     "output_type": "stream",
     "text": [
      "144 [1.0, 1.0, 1.0, 13.0, 0.0, 1.6, 1.9, 2.5, 0.8, 1.0, 1.7, 0.0, 2.0, 1.0, 3.0, 11.0, 0.0, 7.7, 4.7, 8.3, 7.3, 3.0, 9.0, 1.0, 3.0, 1.0, 1.0, 1.0, 1.0, 7.7, 5.3, 8.3, 6.6, 3.0, 9.9, 1.0, 4.0, 1.0, 2.0, 22.0, 0.0, 9.8, 4.2, 9.2, 8.9, 3.0, 9.8, 1.0, 5.0, 1.0, 3.0, 12.0, 0.0, 7.6, 6.3, 6.7, 6.1, 3.0, 9.9, 1.0, 6.0, 1.0, 1.0, 22.0, 1.0, 8.2, 6.1, 8.5, 6.9, 2.0, 7.7, 1.0, 7.0, 1.0, 3.0, 20.0, 0.0, 7.2, 5.2, 5.7, 6.0, 2.0, 7.0, 1.0, 8.0, 1.0, 3.0, 13.0, 0.0, 8.2, 2.4, 10.0, 8.4, 1.0, 9.1, 1.0, 9.0, 1.0, 1.0, 34.0, 1.0, 9.8, 5.9, 7.8, 6.5, 3.0, 9.9, 1.0, 10.0, 1.0, 3.0, 5.0, 0.0, 9.9, 4.7, 8.3, 7.5, 3.0, 8.2, 1.0, 11.0, 0.0, 3.0, 27.0, 0.0, 9.8, 4.1, 9.9, 8.7, 3.0, 9.3, 0.0, 12.0, 0.0, 3.0, 4.0, 0.0, 8.9, 5.1, 9.8, 8.5, 3.0, 10.0, 1.0]\n"
     ]
    }
   ],
   "source": [
    "print(len(data),data)"
   ]
  },
  {
   "cell_type": "code",
   "execution_count": 73,
   "metadata": {},
   "outputs": [
    {
     "name": "stdout",
     "output_type": "stream",
     "text": [
      "\n",
      "\n",
      "1.0 1.0 1.0 13.0 0.0 1.6 1.9 2.5 0.8 1.0 1.7 0.0 \n",
      "\n",
      "2.0 1.0 3.0 11.0 0.0 7.7 4.7 8.3 7.3 3.0 9.0 1.0 \n",
      "\n",
      "3.0 1.0 1.0 1.0 1.0 7.7 5.3 8.3 6.6 3.0 9.9 1.0 \n",
      "\n",
      "4.0 1.0 2.0 22.0 0.0 9.8 4.2 9.2 8.9 3.0 9.8 1.0 \n",
      "\n",
      "5.0 1.0 3.0 12.0 0.0 7.6 6.3 6.7 6.1 3.0 9.9 1.0 \n",
      "\n",
      "6.0 1.0 1.0 22.0 1.0 8.2 6.1 8.5 6.9 2.0 7.7 1.0 \n",
      "\n",
      "7.0 1.0 3.0 20.0 0.0 7.2 5.2 5.7 6.0 2.0 7.0 1.0 \n",
      "\n",
      "8.0 1.0 3.0 13.0 0.0 8.2 2.4 10.0 8.4 1.0 9.1 1.0 \n",
      "\n",
      "9.0 1.0 1.0 34.0 1.0 9.8 5.9 7.8 6.5 3.0 9.9 1.0 \n",
      "\n",
      "10.0 1.0 3.0 5.0 0.0 9.9 4.7 8.3 7.5 3.0 8.2 1.0 \n",
      "\n",
      "11.0 0.0 3.0 27.0 0.0 9.8 4.1 9.9 8.7 3.0 9.3 0.0 \n",
      "\n",
      "12.0 0.0 3.0 4.0 0.0 8.9 5.1 9.8 8.5 3.0 10.0 1.0 "
     ]
    }
   ],
   "source": [
    "for i in range(144):\n",
    "    if i % 12 == 0:\n",
    "        print(\"\\n\")\n",
    "    print(data[i], end=\" \")"
   ]
  },
  {
   "cell_type": "code",
   "execution_count": 78,
   "metadata": {},
   "outputs": [],
   "source": [
    "columns= \"Kunde Kundentyp Branche Größe Region Design Funktionalität Technische_Probleme Preis Kundenzufriedenheit Empfehlung Zukünftige_Aufträge\"\n",
    "columns = columns.split(\" \")"
   ]
  },
  {
   "cell_type": "code",
   "execution_count": 79,
   "metadata": {},
   "outputs": [
    {
     "name": "stdout",
     "output_type": "stream",
     "text": [
      "12 ['Kunde', 'Kundentyp', 'Branche', 'Größe', 'Region', 'Design', 'Funktionalität', 'Technische_Probleme', 'Preis', 'Kundenzufriedenheit', 'Empfehlung', 'Zukünftige_Aufträge']\n"
     ]
    }
   ],
   "source": [
    "print(len(columns), columns)"
   ]
  },
  {
   "cell_type": "code",
   "execution_count": null,
   "metadata": {},
   "outputs": [],
   "source": []
  },
  {
   "cell_type": "code",
   "execution_count": null,
   "metadata": {},
   "outputs": [],
   "source": []
  }
 ],
 "metadata": {
  "kernelspec": {
   "display_name": "Python 3",
   "language": "python",
   "name": "python3"
  },
  "language_info": {
   "codemirror_mode": {
    "name": "ipython",
    "version": 3
   },
   "file_extension": ".py",
   "mimetype": "text/x-python",
   "name": "python",
   "nbconvert_exporter": "python",
   "pygments_lexer": "ipython3",
   "version": "3.7.4"
  }
 },
 "nbformat": 4,
 "nbformat_minor": 2
}
