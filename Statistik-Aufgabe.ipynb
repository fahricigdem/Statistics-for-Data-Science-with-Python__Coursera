{
 "cells": [
  {
   "cell_type": "markdown",
   "metadata": {},
   "source": [
    "# Statistik-Aufgabe"
   ]
  },
  {
   "cell_type": "markdown",
   "metadata": {},
   "source": [
    "## Ein Datensatz zur Auswertung – Praktikant eines Unternehmens"
   ]
  },
  {
   "cell_type": "code",
   "execution_count": 81,
   "metadata": {},
   "outputs": [],
   "source": [
    "import pandas as pd\n",
    "import numpy as np"
   ]
  },
  {
   "cell_type": "code",
   "execution_count": 66,
   "metadata": {},
   "outputs": [],
   "source": [
    "data=\"1 1 1 13 0 1.6 1.9 2.5 0.8 1 1.7 0 2 1 3 11 0 7.7 4.7 8.3 7.3 3 9.0 1 3 1 1 1 1 7.7 5.3 8.3 6.6 3 9.9 1 4 1 2 22 0 9.8 4.2 9.2 8.9 3 9.8 1 5 1 3 12 0 7.6 6.3 6.7 6.1 3 9.9 1 6 1 1 22 1 8.2 6.1 8.5 6.9 2 7.7 1 7 1 3 20 0 7.2 5.2 5.7 6.0 2 7.0 1 8 1 3 13 0 8.2 2.4 10.0 8.4 1 9.1 1 9 1 1 34 1 9.8 5.9 7.8 6.5 3 9.9 1 10 1 3 5 0 9.9 4.7 8.3 7.5 3 8.2 1 11 0 3 27 0 9.8 4.1 9.9 8.7 3 9.3 0 12 0 3 4 0 8.9 5.1 9.8 8.5 3 10.0 1\" "
   ]
  },
  {
   "cell_type": "code",
   "execution_count": 67,
   "metadata": {},
   "outputs": [],
   "source": [
    "data = data.split(\" \")"
   ]
  },
  {
   "cell_type": "code",
   "execution_count": 68,
   "metadata": {},
   "outputs": [
    {
     "name": "stdout",
     "output_type": "stream",
     "text": [
      "144 ['1', '1', '1', '13', '0', '1.6', '1.9', '2.5', '0.8', '1', '1.7', '0', '2', '1', '3', '11', '0', '7.7', '4.7', '8.3', '7.3', '3', '9.0', '1', '3', '1', '1', '1', '1', '7.7', '5.3', '8.3', '6.6', '3', '9.9', '1', '4', '1', '2', '22', '0', '9.8', '4.2', '9.2', '8.9', '3', '9.8', '1', '5', '1', '3', '12', '0', '7.6', '6.3', '6.7', '6.1', '3', '9.9', '1', '6', '1', '1', '22', '1', '8.2', '6.1', '8.5', '6.9', '2', '7.7', '1', '7', '1', '3', '20', '0', '7.2', '5.2', '5.7', '6.0', '2', '7.0', '1', '8', '1', '3', '13', '0', '8.2', '2.4', '10.0', '8.4', '1', '9.1', '1', '9', '1', '1', '34', '1', '9.8', '5.9', '7.8', '6.5', '3', '9.9', '1', '10', '1', '3', '5', '0', '9.9', '4.7', '8.3', '7.5', '3', '8.2', '1', '11', '0', '3', '27', '0', '9.8', '4.1', '9.9', '8.7', '3', '9.3', '0', '12', '0', '3', '4', '0', '8.9', '5.1', '9.8', '8.5', '3', '10.0', '1']\n"
     ]
    }
   ],
   "source": [
    "print(len(data), data)"
   ]
  },
  {
   "cell_type": "code",
   "execution_count": 69,
   "metadata": {},
   "outputs": [],
   "source": [
    "data = [float(i) for i in data ]"
   ]
  },
  {
   "cell_type": "code",
   "execution_count": 86,
   "metadata": {},
   "outputs": [
    {
     "name": "stdout",
     "output_type": "stream",
     "text": [
      "144 [1.0, 1.0, 1.0, 13.0, 0.0, 1.6, 1.9, 2.5, 0.8, 1.0, 1.7, 0.0, 2.0, 1.0, 3.0, 11.0, 0.0, 7.7, 4.7, 8.3, 7.3, 3.0, 9.0, 1.0, 3.0, 1.0, 1.0, 1.0, 1.0, 7.7, 5.3, 8.3, 6.6, 3.0, 9.9, 1.0, 4.0, 1.0, 2.0, 22.0, 0.0, 9.8, 4.2, 9.2, 8.9, 3.0, 9.8, 1.0, 5.0, 1.0, 3.0, 12.0, 0.0, 7.6, 6.3, 6.7, 6.1, 3.0, 9.9, 1.0, 6.0, 1.0, 1.0, 22.0, 1.0, 8.2, 6.1, 8.5, 6.9, 2.0, 7.7, 1.0, 7.0, 1.0, 3.0, 20.0, 0.0, 7.2, 5.2, 5.7, 6.0, 2.0, 7.0, 1.0, 8.0, 1.0, 3.0, 13.0, 0.0, 8.2, 2.4, 10.0, 8.4, 1.0, 9.1, 1.0, 9.0, 1.0, 1.0, 34.0, 1.0, 9.8, 5.9, 7.8, 6.5, 3.0, 9.9, 1.0, 10.0, 1.0, 3.0, 5.0, 0.0, 9.9, 4.7, 8.3, 7.5, 3.0, 8.2, 1.0, 11.0, 0.0, 3.0, 27.0, 0.0, 9.8, 4.1, 9.9, 8.7, 3.0, 9.3, 0.0, 12.0, 0.0, 3.0, 4.0, 0.0, 8.9, 5.1, 9.8, 8.5, 3.0, 10.0, 1.0]\n"
     ]
    }
   ],
   "source": [
    "print(len(data),data)"
   ]
  },
  {
   "cell_type": "code",
   "execution_count": 87,
   "metadata": {},
   "outputs": [],
   "source": [
    "datalines=[]"
   ]
  },
  {
   "cell_type": "code",
   "execution_count": 88,
   "metadata": {},
   "outputs": [],
   "source": [
    "for i in range (0, 144, 12):\n",
    "    datalines.append(data[i:i+12]) "
   ]
  },
  {
   "cell_type": "code",
   "execution_count": 89,
   "metadata": {},
   "outputs": [
    {
     "data": {
      "text/plain": [
       "[[1.0, 1.0, 1.0, 13.0, 0.0, 1.6, 1.9, 2.5, 0.8, 1.0, 1.7, 0.0],\n",
       " [2.0, 1.0, 3.0, 11.0, 0.0, 7.7, 4.7, 8.3, 7.3, 3.0, 9.0, 1.0],\n",
       " [3.0, 1.0, 1.0, 1.0, 1.0, 7.7, 5.3, 8.3, 6.6, 3.0, 9.9, 1.0],\n",
       " [4.0, 1.0, 2.0, 22.0, 0.0, 9.8, 4.2, 9.2, 8.9, 3.0, 9.8, 1.0],\n",
       " [5.0, 1.0, 3.0, 12.0, 0.0, 7.6, 6.3, 6.7, 6.1, 3.0, 9.9, 1.0],\n",
       " [6.0, 1.0, 1.0, 22.0, 1.0, 8.2, 6.1, 8.5, 6.9, 2.0, 7.7, 1.0],\n",
       " [7.0, 1.0, 3.0, 20.0, 0.0, 7.2, 5.2, 5.7, 6.0, 2.0, 7.0, 1.0],\n",
       " [8.0, 1.0, 3.0, 13.0, 0.0, 8.2, 2.4, 10.0, 8.4, 1.0, 9.1, 1.0],\n",
       " [9.0, 1.0, 1.0, 34.0, 1.0, 9.8, 5.9, 7.8, 6.5, 3.0, 9.9, 1.0],\n",
       " [10.0, 1.0, 3.0, 5.0, 0.0, 9.9, 4.7, 8.3, 7.5, 3.0, 8.2, 1.0],\n",
       " [11.0, 0.0, 3.0, 27.0, 0.0, 9.8, 4.1, 9.9, 8.7, 3.0, 9.3, 0.0],\n",
       " [12.0, 0.0, 3.0, 4.0, 0.0, 8.9, 5.1, 9.8, 8.5, 3.0, 10.0, 1.0]]"
      ]
     },
     "execution_count": 89,
     "metadata": {},
     "output_type": "execute_result"
    }
   ],
   "source": [
    "datalines"
   ]
  },
  {
   "cell_type": "code",
   "execution_count": 73,
   "metadata": {},
   "outputs": [
    {
     "name": "stdout",
     "output_type": "stream",
     "text": [
      "\n",
      "\n",
      "1.0 1.0 1.0 13.0 0.0 1.6 1.9 2.5 0.8 1.0 1.7 0.0 \n",
      "\n",
      "2.0 1.0 3.0 11.0 0.0 7.7 4.7 8.3 7.3 3.0 9.0 1.0 \n",
      "\n",
      "3.0 1.0 1.0 1.0 1.0 7.7 5.3 8.3 6.6 3.0 9.9 1.0 \n",
      "\n",
      "4.0 1.0 2.0 22.0 0.0 9.8 4.2 9.2 8.9 3.0 9.8 1.0 \n",
      "\n",
      "5.0 1.0 3.0 12.0 0.0 7.6 6.3 6.7 6.1 3.0 9.9 1.0 \n",
      "\n",
      "6.0 1.0 1.0 22.0 1.0 8.2 6.1 8.5 6.9 2.0 7.7 1.0 \n",
      "\n",
      "7.0 1.0 3.0 20.0 0.0 7.2 5.2 5.7 6.0 2.0 7.0 1.0 \n",
      "\n",
      "8.0 1.0 3.0 13.0 0.0 8.2 2.4 10.0 8.4 1.0 9.1 1.0 \n",
      "\n",
      "9.0 1.0 1.0 34.0 1.0 9.8 5.9 7.8 6.5 3.0 9.9 1.0 \n",
      "\n",
      "10.0 1.0 3.0 5.0 0.0 9.9 4.7 8.3 7.5 3.0 8.2 1.0 \n",
      "\n",
      "11.0 0.0 3.0 27.0 0.0 9.8 4.1 9.9 8.7 3.0 9.3 0.0 \n",
      "\n",
      "12.0 0.0 3.0 4.0 0.0 8.9 5.1 9.8 8.5 3.0 10.0 1.0 "
     ]
    }
   ],
   "source": [
    "for i in range(144):\n",
    "    if i % 12 == 0:\n",
    "        print(\"\\n\")\n",
    "    datalines.append([i for i in range])\n",
    "        print(data[i], end=\" \")"
   ]
  },
  {
   "cell_type": "code",
   "execution_count": null,
   "metadata": {},
   "outputs": [],
   "source": []
  },
  {
   "cell_type": "code",
   "execution_count": null,
   "metadata": {},
   "outputs": [],
   "source": []
  },
  {
   "cell_type": "code",
   "execution_count": null,
   "metadata": {},
   "outputs": [],
   "source": []
  },
  {
   "cell_type": "code",
   "execution_count": 78,
   "metadata": {},
   "outputs": [],
   "source": [
    "columns= \"Kunde Kundentyp Branche Größe Region Design Funktionalität Technische_Probleme Preis Kundenzufriedenheit Empfehlung Zukünftige_Aufträge\"\n",
    "columns = columns.split(\" \")"
   ]
  },
  {
   "cell_type": "code",
   "execution_count": 90,
   "metadata": {},
   "outputs": [
    {
     "name": "stdout",
     "output_type": "stream",
     "text": [
      "12 ['Kunde', 'Kundentyp', 'Branche', 'Größe', 'Region', 'Design', 'Funktionalität', 'Technische_Probleme', 'Preis', 'Kundenzufriedenheit', 'Empfehlung', 'Zukünftige_Aufträge']\n"
     ]
    }
   ],
   "source": [
    "print(len(columns), columns)"
   ]
  },
  {
   "cell_type": "code",
   "execution_count": 91,
   "metadata": {},
   "outputs": [],
   "source": [
    "df = pd.DataFrame(np.array(datalines),\n",
    "                   columns=columns)"
   ]
  },
  {
   "cell_type": "code",
   "execution_count": 92,
   "metadata": {},
   "outputs": [
    {
     "data": {
      "text/html": [
       "<div>\n",
       "<style scoped>\n",
       "    .dataframe tbody tr th:only-of-type {\n",
       "        vertical-align: middle;\n",
       "    }\n",
       "\n",
       "    .dataframe tbody tr th {\n",
       "        vertical-align: top;\n",
       "    }\n",
       "\n",
       "    .dataframe thead th {\n",
       "        text-align: right;\n",
       "    }\n",
       "</style>\n",
       "<table border=\"1\" class=\"dataframe\">\n",
       "  <thead>\n",
       "    <tr style=\"text-align: right;\">\n",
       "      <th></th>\n",
       "      <th>Kunde</th>\n",
       "      <th>Kundentyp</th>\n",
       "      <th>Branche</th>\n",
       "      <th>Größe</th>\n",
       "      <th>Region</th>\n",
       "      <th>Design</th>\n",
       "      <th>Funktionalität</th>\n",
       "      <th>Technische_Probleme</th>\n",
       "      <th>Preis</th>\n",
       "      <th>Kundenzufriedenheit</th>\n",
       "      <th>Empfehlung</th>\n",
       "      <th>Zukünftige_Aufträge</th>\n",
       "    </tr>\n",
       "  </thead>\n",
       "  <tbody>\n",
       "    <tr>\n",
       "      <th>0</th>\n",
       "      <td>1.0</td>\n",
       "      <td>1.0</td>\n",
       "      <td>1.0</td>\n",
       "      <td>13.0</td>\n",
       "      <td>0.0</td>\n",
       "      <td>1.6</td>\n",
       "      <td>1.9</td>\n",
       "      <td>2.5</td>\n",
       "      <td>0.8</td>\n",
       "      <td>1.0</td>\n",
       "      <td>1.7</td>\n",
       "      <td>0.0</td>\n",
       "    </tr>\n",
       "    <tr>\n",
       "      <th>1</th>\n",
       "      <td>2.0</td>\n",
       "      <td>1.0</td>\n",
       "      <td>3.0</td>\n",
       "      <td>11.0</td>\n",
       "      <td>0.0</td>\n",
       "      <td>7.7</td>\n",
       "      <td>4.7</td>\n",
       "      <td>8.3</td>\n",
       "      <td>7.3</td>\n",
       "      <td>3.0</td>\n",
       "      <td>9.0</td>\n",
       "      <td>1.0</td>\n",
       "    </tr>\n",
       "    <tr>\n",
       "      <th>2</th>\n",
       "      <td>3.0</td>\n",
       "      <td>1.0</td>\n",
       "      <td>1.0</td>\n",
       "      <td>1.0</td>\n",
       "      <td>1.0</td>\n",
       "      <td>7.7</td>\n",
       "      <td>5.3</td>\n",
       "      <td>8.3</td>\n",
       "      <td>6.6</td>\n",
       "      <td>3.0</td>\n",
       "      <td>9.9</td>\n",
       "      <td>1.0</td>\n",
       "    </tr>\n",
       "    <tr>\n",
       "      <th>3</th>\n",
       "      <td>4.0</td>\n",
       "      <td>1.0</td>\n",
       "      <td>2.0</td>\n",
       "      <td>22.0</td>\n",
       "      <td>0.0</td>\n",
       "      <td>9.8</td>\n",
       "      <td>4.2</td>\n",
       "      <td>9.2</td>\n",
       "      <td>8.9</td>\n",
       "      <td>3.0</td>\n",
       "      <td>9.8</td>\n",
       "      <td>1.0</td>\n",
       "    </tr>\n",
       "    <tr>\n",
       "      <th>4</th>\n",
       "      <td>5.0</td>\n",
       "      <td>1.0</td>\n",
       "      <td>3.0</td>\n",
       "      <td>12.0</td>\n",
       "      <td>0.0</td>\n",
       "      <td>7.6</td>\n",
       "      <td>6.3</td>\n",
       "      <td>6.7</td>\n",
       "      <td>6.1</td>\n",
       "      <td>3.0</td>\n",
       "      <td>9.9</td>\n",
       "      <td>1.0</td>\n",
       "    </tr>\n",
       "    <tr>\n",
       "      <th>5</th>\n",
       "      <td>6.0</td>\n",
       "      <td>1.0</td>\n",
       "      <td>1.0</td>\n",
       "      <td>22.0</td>\n",
       "      <td>1.0</td>\n",
       "      <td>8.2</td>\n",
       "      <td>6.1</td>\n",
       "      <td>8.5</td>\n",
       "      <td>6.9</td>\n",
       "      <td>2.0</td>\n",
       "      <td>7.7</td>\n",
       "      <td>1.0</td>\n",
       "    </tr>\n",
       "    <tr>\n",
       "      <th>6</th>\n",
       "      <td>7.0</td>\n",
       "      <td>1.0</td>\n",
       "      <td>3.0</td>\n",
       "      <td>20.0</td>\n",
       "      <td>0.0</td>\n",
       "      <td>7.2</td>\n",
       "      <td>5.2</td>\n",
       "      <td>5.7</td>\n",
       "      <td>6.0</td>\n",
       "      <td>2.0</td>\n",
       "      <td>7.0</td>\n",
       "      <td>1.0</td>\n",
       "    </tr>\n",
       "    <tr>\n",
       "      <th>7</th>\n",
       "      <td>8.0</td>\n",
       "      <td>1.0</td>\n",
       "      <td>3.0</td>\n",
       "      <td>13.0</td>\n",
       "      <td>0.0</td>\n",
       "      <td>8.2</td>\n",
       "      <td>2.4</td>\n",
       "      <td>10.0</td>\n",
       "      <td>8.4</td>\n",
       "      <td>1.0</td>\n",
       "      <td>9.1</td>\n",
       "      <td>1.0</td>\n",
       "    </tr>\n",
       "    <tr>\n",
       "      <th>8</th>\n",
       "      <td>9.0</td>\n",
       "      <td>1.0</td>\n",
       "      <td>1.0</td>\n",
       "      <td>34.0</td>\n",
       "      <td>1.0</td>\n",
       "      <td>9.8</td>\n",
       "      <td>5.9</td>\n",
       "      <td>7.8</td>\n",
       "      <td>6.5</td>\n",
       "      <td>3.0</td>\n",
       "      <td>9.9</td>\n",
       "      <td>1.0</td>\n",
       "    </tr>\n",
       "    <tr>\n",
       "      <th>9</th>\n",
       "      <td>10.0</td>\n",
       "      <td>1.0</td>\n",
       "      <td>3.0</td>\n",
       "      <td>5.0</td>\n",
       "      <td>0.0</td>\n",
       "      <td>9.9</td>\n",
       "      <td>4.7</td>\n",
       "      <td>8.3</td>\n",
       "      <td>7.5</td>\n",
       "      <td>3.0</td>\n",
       "      <td>8.2</td>\n",
       "      <td>1.0</td>\n",
       "    </tr>\n",
       "    <tr>\n",
       "      <th>10</th>\n",
       "      <td>11.0</td>\n",
       "      <td>0.0</td>\n",
       "      <td>3.0</td>\n",
       "      <td>27.0</td>\n",
       "      <td>0.0</td>\n",
       "      <td>9.8</td>\n",
       "      <td>4.1</td>\n",
       "      <td>9.9</td>\n",
       "      <td>8.7</td>\n",
       "      <td>3.0</td>\n",
       "      <td>9.3</td>\n",
       "      <td>0.0</td>\n",
       "    </tr>\n",
       "    <tr>\n",
       "      <th>11</th>\n",
       "      <td>12.0</td>\n",
       "      <td>0.0</td>\n",
       "      <td>3.0</td>\n",
       "      <td>4.0</td>\n",
       "      <td>0.0</td>\n",
       "      <td>8.9</td>\n",
       "      <td>5.1</td>\n",
       "      <td>9.8</td>\n",
       "      <td>8.5</td>\n",
       "      <td>3.0</td>\n",
       "      <td>10.0</td>\n",
       "      <td>1.0</td>\n",
       "    </tr>\n",
       "  </tbody>\n",
       "</table>\n",
       "</div>"
      ],
      "text/plain": [
       "    Kunde  Kundentyp  Branche  Größe  Region  Design  Funktionalität  \\\n",
       "0     1.0        1.0      1.0   13.0     0.0     1.6             1.9   \n",
       "1     2.0        1.0      3.0   11.0     0.0     7.7             4.7   \n",
       "2     3.0        1.0      1.0    1.0     1.0     7.7             5.3   \n",
       "3     4.0        1.0      2.0   22.0     0.0     9.8             4.2   \n",
       "4     5.0        1.0      3.0   12.0     0.0     7.6             6.3   \n",
       "5     6.0        1.0      1.0   22.0     1.0     8.2             6.1   \n",
       "6     7.0        1.0      3.0   20.0     0.0     7.2             5.2   \n",
       "7     8.0        1.0      3.0   13.0     0.0     8.2             2.4   \n",
       "8     9.0        1.0      1.0   34.0     1.0     9.8             5.9   \n",
       "9    10.0        1.0      3.0    5.0     0.0     9.9             4.7   \n",
       "10   11.0        0.0      3.0   27.0     0.0     9.8             4.1   \n",
       "11   12.0        0.0      3.0    4.0     0.0     8.9             5.1   \n",
       "\n",
       "    Technische_Probleme  Preis  Kundenzufriedenheit  Empfehlung  \\\n",
       "0                   2.5    0.8                  1.0         1.7   \n",
       "1                   8.3    7.3                  3.0         9.0   \n",
       "2                   8.3    6.6                  3.0         9.9   \n",
       "3                   9.2    8.9                  3.0         9.8   \n",
       "4                   6.7    6.1                  3.0         9.9   \n",
       "5                   8.5    6.9                  2.0         7.7   \n",
       "6                   5.7    6.0                  2.0         7.0   \n",
       "7                  10.0    8.4                  1.0         9.1   \n",
       "8                   7.8    6.5                  3.0         9.9   \n",
       "9                   8.3    7.5                  3.0         8.2   \n",
       "10                  9.9    8.7                  3.0         9.3   \n",
       "11                  9.8    8.5                  3.0        10.0   \n",
       "\n",
       "    Zukünftige_Aufträge  \n",
       "0                   0.0  \n",
       "1                   1.0  \n",
       "2                   1.0  \n",
       "3                   1.0  \n",
       "4                   1.0  \n",
       "5                   1.0  \n",
       "6                   1.0  \n",
       "7                   1.0  \n",
       "8                   1.0  \n",
       "9                   1.0  \n",
       "10                  0.0  \n",
       "11                  1.0  "
      ]
     },
     "execution_count": 92,
     "metadata": {},
     "output_type": "execute_result"
    }
   ],
   "source": [
    "df"
   ]
  },
  {
   "cell_type": "code",
   "execution_count": 94,
   "metadata": {},
   "outputs": [
    {
     "ename": "AttributeError",
     "evalue": "'DataFrame' object has no attribute 'types'",
     "output_type": "error",
     "traceback": [
      "\u001b[1;31m---------------------------------------------------------------------------\u001b[0m",
      "\u001b[1;31mAttributeError\u001b[0m                            Traceback (most recent call last)",
      "\u001b[1;32m<ipython-input-94-3c024b1b554d>\u001b[0m in \u001b[0;36m<module>\u001b[1;34m\u001b[0m\n\u001b[1;32m----> 1\u001b[1;33m \u001b[0mdf\u001b[0m\u001b[1;33m.\u001b[0m\u001b[0mtypes\u001b[0m\u001b[1;33m\u001b[0m\u001b[1;33m\u001b[0m\u001b[0m\n\u001b[0m",
      "\u001b[1;32m~\\Anaconda3\\lib\\site-packages\\pandas\\core\\generic.py\u001b[0m in \u001b[0;36m__getattr__\u001b[1;34m(self, name)\u001b[0m\n\u001b[0;32m   5460\u001b[0m             \u001b[1;32mif\u001b[0m \u001b[0mself\u001b[0m\u001b[1;33m.\u001b[0m\u001b[0m_info_axis\u001b[0m\u001b[1;33m.\u001b[0m\u001b[0m_can_hold_identifiers_and_holds_name\u001b[0m\u001b[1;33m(\u001b[0m\u001b[0mname\u001b[0m\u001b[1;33m)\u001b[0m\u001b[1;33m:\u001b[0m\u001b[1;33m\u001b[0m\u001b[1;33m\u001b[0m\u001b[0m\n\u001b[0;32m   5461\u001b[0m                 \u001b[1;32mreturn\u001b[0m \u001b[0mself\u001b[0m\u001b[1;33m[\u001b[0m\u001b[0mname\u001b[0m\u001b[1;33m]\u001b[0m\u001b[1;33m\u001b[0m\u001b[1;33m\u001b[0m\u001b[0m\n\u001b[1;32m-> 5462\u001b[1;33m             \u001b[1;32mreturn\u001b[0m \u001b[0mobject\u001b[0m\u001b[1;33m.\u001b[0m\u001b[0m__getattribute__\u001b[0m\u001b[1;33m(\u001b[0m\u001b[0mself\u001b[0m\u001b[1;33m,\u001b[0m \u001b[0mname\u001b[0m\u001b[1;33m)\u001b[0m\u001b[1;33m\u001b[0m\u001b[1;33m\u001b[0m\u001b[0m\n\u001b[0m\u001b[0;32m   5463\u001b[0m \u001b[1;33m\u001b[0m\u001b[0m\n\u001b[0;32m   5464\u001b[0m     \u001b[1;32mdef\u001b[0m \u001b[0m__setattr__\u001b[0m\u001b[1;33m(\u001b[0m\u001b[0mself\u001b[0m\u001b[1;33m,\u001b[0m \u001b[0mname\u001b[0m\u001b[1;33m:\u001b[0m \u001b[0mstr\u001b[0m\u001b[1;33m,\u001b[0m \u001b[0mvalue\u001b[0m\u001b[1;33m)\u001b[0m \u001b[1;33m->\u001b[0m \u001b[1;32mNone\u001b[0m\u001b[1;33m:\u001b[0m\u001b[1;33m\u001b[0m\u001b[1;33m\u001b[0m\u001b[0m\n",
      "\u001b[1;31mAttributeError\u001b[0m: 'DataFrame' object has no attribute 'types'"
     ]
    }
   ],
   "source": [
    "df"
   ]
  }
 ],
 "metadata": {
  "kernelspec": {
   "display_name": "Python 3",
   "language": "python",
   "name": "python3"
  },
  "language_info": {
   "codemirror_mode": {
    "name": "ipython",
    "version": 3
   },
   "file_extension": ".py",
   "mimetype": "text/x-python",
   "name": "python",
   "nbconvert_exporter": "python",
   "pygments_lexer": "ipython3",
   "version": "3.7.4"
  }
 },
 "nbformat": 4,
 "nbformat_minor": 2
}
